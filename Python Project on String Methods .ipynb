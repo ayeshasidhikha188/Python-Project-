{
 "cells": [
  {
   "cell_type": "markdown",
   "id": "fc4ff10a",
   "metadata": {},
   "source": [
    "# PyString: A Comprehensive Suite of Custom String Methods"
   ]
  },
  {
   "cell_type": "markdown",
   "id": "fe573bbb",
   "metadata": {},
   "source": [
    "# 1. lower()"
   ]
  },
  {
   "cell_type": "code",
   "execution_count": 2,
   "id": "8b7c9911",
   "metadata": {},
   "outputs": [],
   "source": [
    "def strlower(s):\n",
    "    '''\n",
    "    lower() method converts all uppercase characters in a string into lowercase characters and returns it.\n",
    "* Parameters:\n",
    " The lower() method doesn’t take any parameters. \n",
    "* Returns:\n",
    " Returns a lowercase string of the given string\n",
    " \n",
    "     '''\n",
    "    z = ''\n",
    "    for ele in s:\n",
    "        if 65<=ord(ele)<=90:\n",
    "            z+=chr(ord(ele) + 32)\n",
    "        else:\n",
    "            z+=ele\n",
    "            \n",
    "    return z"
   ]
  },
  {
   "cell_type": "code",
   "execution_count": 3,
   "id": "a4b6193b",
   "metadata": {},
   "outputs": [
    {
     "data": {
      "text/plain": [
       "'\\n    lower() method converts all uppercase characters in a string into lowercase characters and returns it.\\n* Parameters:\\n The lower() method doesn’t take any parameters. \\n* Returns:\\n Returns a lowercase string of the given string\\n \\n     '"
      ]
     },
     "execution_count": 3,
     "metadata": {},
     "output_type": "execute_result"
    }
   ],
   "source": [
    "strlower.__doc__"
   ]
  },
  {
   "cell_type": "code",
   "execution_count": 4,
   "id": "d2074ec5",
   "metadata": {},
   "outputs": [
    {
     "data": {
      "text/plain": [
       "'ayesha'"
      ]
     },
     "execution_count": 4,
     "metadata": {},
     "output_type": "execute_result"
    }
   ],
   "source": [
    "strlower('AYESHA')"
   ]
  },
  {
   "cell_type": "markdown",
   "id": "4445d183",
   "metadata": {},
   "source": [
    "# 2. index()"
   ]
  },
  {
   "cell_type": "code",
   "execution_count": 168,
   "id": "c7f9ff52",
   "metadata": {},
   "outputs": [],
   "source": [
    "def strindex(string, substring):\n",
    "    '''\n",
    "     index() Method allows a user to find the index of the first occurrence of an existing substring inside a given string.\n",
    " Parameters: \n",
    " substring: The string to be searched for.\n",
    " start (default : 0) : This function specifies the position from where the search has to be started. \n",
    " end (default: length of string): This function specifies the position from where the search has to end\n",
    " Return:  \n",
    " Returns the first position of the substring found.\n",
    "     '''\n",
    "    for i, _ in enumerate(string):\n",
    "        if string[i:i+len(substring)] == substring:\n",
    "            return i\n",
    "    return 'Error'  \n"
   ]
  },
  {
   "cell_type": "code",
   "execution_count": 169,
   "id": "99194ec2",
   "metadata": {},
   "outputs": [
    {
     "data": {
      "text/plain": [
       "'\\n     index() Method allows a user to find the index of the first occurrence of an existing substring inside a given string.\\n Parameters: \\n substring: The string to be searched for.\\n start (default : 0) : This function specifies the position from where the search has to be started. \\n end (default: length of string): This function specifies the position from where the search has to end\\n Return:  \\n Returns the first position of the substring found.\\n     '"
      ]
     },
     "execution_count": 169,
     "metadata": {},
     "output_type": "execute_result"
    }
   ],
   "source": [
    "strindex.__doc__"
   ]
  },
  {
   "cell_type": "code",
   "execution_count": 170,
   "id": "312cdaa1",
   "metadata": {},
   "outputs": [
    {
     "data": {
      "text/plain": [
       "2"
      ]
     },
     "execution_count": 170,
     "metadata": {},
     "output_type": "execute_result"
    }
   ],
   "source": [
    "strindex('Helloworld','ll') # first occurence l "
   ]
  },
  {
   "cell_type": "code",
   "execution_count": 171,
   "id": "0da39346",
   "metadata": {},
   "outputs": [
    {
     "data": {
      "text/plain": [
       "2"
      ]
     },
     "execution_count": 171,
     "metadata": {},
     "output_type": "execute_result"
    }
   ],
   "source": [
    "strindex('Helloworld','l')"
   ]
  },
  {
   "cell_type": "code",
   "execution_count": 172,
   "id": "1b730ce7",
   "metadata": {},
   "outputs": [
    {
     "data": {
      "text/plain": [
       "4"
      ]
     },
     "execution_count": 172,
     "metadata": {},
     "output_type": "execute_result"
    }
   ],
   "source": [
    "strindex('Hello world','o')"
   ]
  },
  {
   "cell_type": "code",
   "execution_count": 173,
   "id": "833e0942",
   "metadata": {},
   "outputs": [
    {
     "data": {
      "text/plain": [
       "'Error'"
      ]
     },
     "execution_count": 173,
     "metadata": {},
     "output_type": "execute_result"
    }
   ],
   "source": [
    "strindex('Hello world','z') # Error "
   ]
  },
  {
   "cell_type": "markdown",
   "id": "78a04fcf",
   "metadata": {},
   "source": [
    "# 3. rindex()"
   ]
  },
  {
   "cell_type": "code",
   "execution_count": 11,
   "id": "7bfa3575",
   "metadata": {},
   "outputs": [],
   "source": [
    "def strrindex(string, substring):\n",
    "    '''\n",
    "     rindex() method returns the highest index of the substring inside the string if the substring is found. \n",
    "* Otherwise, it raises ValueError.\n",
    " Parameters: \n",
    "* sub : It’s the substring which needs to be searched in the given string.\n",
    "* start : Starting position where sub is needs to be checked within the string.\n",
    "* end : Ending position where suffix is needs to be checked within the string.\n",
    "Return:\n",
    "* Returns the highest index of the substring inside the string if substring is found. \n",
    "* Otherwise it raises an exception.\n",
    "\n",
    "     '''\n",
    "    for i, _ in enumerate(reversed(string)):\n",
    "        if string[-i-len(substring): -i] == substring:\n",
    "            return len(string) - i - len(substring)\n",
    "    return -1  "
   ]
  },
  {
   "cell_type": "code",
   "execution_count": 12,
   "id": "404fdc58",
   "metadata": {},
   "outputs": [
    {
     "data": {
      "text/plain": [
       "'\\n     rindex() method returns the highest index of the substring inside the string if the substring is found. \\n* Otherwise, it raises ValueError.\\n Parameters: \\n* sub : It’s the substring which needs to be searched in the given string.\\n* start : Starting position where sub is needs to be checked within the string.\\n* end : Ending position where suffix is needs to be checked within the string.\\nReturn:\\n* Returns the highest index of the substring inside the string if substring is found. \\n* Otherwise it raises an exception.\\n\\n     '"
      ]
     },
     "execution_count": 12,
     "metadata": {},
     "output_type": "execute_result"
    }
   ],
   "source": [
    "strrindex.__doc__"
   ]
  },
  {
   "cell_type": "code",
   "execution_count": 13,
   "id": "67737a6c",
   "metadata": {},
   "outputs": [
    {
     "data": {
      "text/plain": [
       "8"
      ]
     },
     "execution_count": 13,
     "metadata": {},
     "output_type": "execute_result"
    }
   ],
   "source": [
    "strrindex('Helloworld','l')"
   ]
  },
  {
   "cell_type": "code",
   "execution_count": 14,
   "id": "28dc16e3",
   "metadata": {},
   "outputs": [
    {
     "data": {
      "text/plain": [
       "2"
      ]
     },
     "execution_count": 14,
     "metadata": {},
     "output_type": "execute_result"
    }
   ],
   "source": [
    "strrindex('Helloworld', 'll')"
   ]
  },
  {
   "cell_type": "code",
   "execution_count": 15,
   "id": "1afcb1a9",
   "metadata": {},
   "outputs": [
    {
     "data": {
      "text/plain": [
       "-1"
      ]
     },
     "execution_count": 15,
     "metadata": {},
     "output_type": "execute_result"
    }
   ],
   "source": [
    "strrindex('Ayesha','z') # need error "
   ]
  },
  {
   "cell_type": "markdown",
   "id": "55edce34",
   "metadata": {},
   "source": [
    "# 4. count()"
   ]
  },
  {
   "cell_type": "code",
   "execution_count": 16,
   "id": "35710ea5",
   "metadata": {},
   "outputs": [],
   "source": [
    "def strcount(string, substring):\n",
    "    '''\n",
    "     count() function returns the number of occurrences of a substring in the given string\n",
    "     Parameters: \n",
    "* The count() function has one compulsory and two optional parameters.  \n",
    "Mandatory parameter: \n",
    "* substring – string whose count is to be found.\n",
    " Return Value: \n",
    "* count() method returns an integer that denotes the number of times\n",
    "    \n",
    "    '''\n",
    "    x = 0\n",
    "    for char in string:\n",
    "        if char == substring:\n",
    "            x += 1\n",
    "    return x"
   ]
  },
  {
   "cell_type": "code",
   "execution_count": 17,
   "id": "3fd6d8f1",
   "metadata": {},
   "outputs": [
    {
     "data": {
      "text/plain": [
       "'\\n     count() function returns the number of occurrences of a substring in the given string\\n     Parameters: \\n* The count() function has one compulsory and two optional parameters.  \\nMandatory parameter: \\n* substring – string whose count is to be found.\\n Return Value: \\n* count() method returns an integer that denotes the number of times\\n    \\n    '"
      ]
     },
     "execution_count": 17,
     "metadata": {},
     "output_type": "execute_result"
    }
   ],
   "source": [
    " strcount.__doc__"
   ]
  },
  {
   "cell_type": "code",
   "execution_count": 18,
   "id": "b398f440",
   "metadata": {},
   "outputs": [
    {
     "data": {
      "text/plain": [
       "2"
      ]
     },
     "execution_count": 18,
     "metadata": {},
     "output_type": "execute_result"
    }
   ],
   "source": [
    "strcount('ayesha','a')"
   ]
  },
  {
   "cell_type": "code",
   "execution_count": 19,
   "id": "a26de26e",
   "metadata": {},
   "outputs": [
    {
     "data": {
      "text/plain": [
       "0"
      ]
     },
     "execution_count": 19,
     "metadata": {},
     "output_type": "execute_result"
    }
   ],
   "source": [
    "strcount('sidhikha','z')"
   ]
  },
  {
   "cell_type": "markdown",
   "id": "8e2354f3",
   "metadata": {},
   "source": [
    "# 5. partition()"
   ]
  },
  {
   "cell_type": "code",
   "execution_count": 20,
   "id": "5c6ba708",
   "metadata": {},
   "outputs": [],
   "source": [
    "# using find method\n",
    "def strpartition(string, sep):\n",
    "    '''\n",
    "partition() method splits the string at the first occurrence of the separator and returns a tuple containing the part before the separator, the separator, and the part after the separator. \n",
    "Parameters: \n",
    "* sep: a substring that separates the string\n",
    "Return:\n",
    "* Returns a tuple of 3 elements. The substring before the separator, the separator, the part after the separator\n",
    "    \n",
    "    '''\n",
    "    for i, _ in enumerate(string):\n",
    "        index=string.find(sep)\n",
    "    if index !=1:\n",
    "        return string[:index], sep, string[index + len(sep):]\n",
    "    else:\n",
    "        return string, \"\", \"\""
   ]
  },
  {
   "cell_type": "code",
   "execution_count": 21,
   "id": "5a5d7752",
   "metadata": {},
   "outputs": [
    {
     "data": {
      "text/plain": [
       "'\\npartition() method splits the string at the first occurrence of the separator and returns a tuple containing the part before the separator, the separator, and the part after the separator. \\nParameters: \\n* sep: a substring that separates the string\\nReturn:\\n* Returns a tuple of 3 elements. The substring before the separator, the separator, the part after the separator\\n    \\n    '"
      ]
     },
     "execution_count": 21,
     "metadata": {},
     "output_type": "execute_result"
    }
   ],
   "source": [
    "strpartition.__doc__"
   ]
  },
  {
   "cell_type": "code",
   "execution_count": null,
   "id": "823499c8",
   "metadata": {},
   "outputs": [],
   "source": [
    "# using find \n",
    "def strpartition(string, separator):\n",
    "    '''\n",
    "    partition() method splits the string at the first occurrence of the separator and returns a tuple containing the part before the separator, the separator, and the part after the separator. \n",
    "Parameters: \n",
    "* sep: a substring that separates the string\n",
    "Return:\n",
    "* Returns a tuple of 3 elements. The substring before the separator, the separator, the part after the separator\n",
    "    '''\n",
    "    separatorindex = -1\n",
    "    for i in range(len(string)):\n",
    "        if string[i:i+len(separator)] == separator:\n",
    "            separatorindex = i\n",
    "            break  \n",
    "    if separatorindex != -1:\n",
    "        beforeseparator = string[:separatorindex]\n",
    "        afterseparator = string[separatorindex + len(separator):]\n",
    "        return beforeseparator, separator, afterseparator\n",
    "    else:\n",
    "        return string, \"\", \"\""
   ]
  },
  {
   "cell_type": "code",
   "execution_count": null,
   "id": "9ab7a430",
   "metadata": {},
   "outputs": [],
   "source": [
    "strpartition.__doc__"
   ]
  },
  {
   "cell_type": "code",
   "execution_count": null,
   "id": "c1ab2574",
   "metadata": {},
   "outputs": [],
   "source": [
    "strpartition('ayesha','s') # three tokens"
   ]
  },
  {
   "cell_type": "code",
   "execution_count": null,
   "id": "9930e644",
   "metadata": {},
   "outputs": [],
   "source": [
    "strpartition('ayesha','a') # three tokens"
   ]
  },
  {
   "cell_type": "code",
   "execution_count": null,
   "id": "6373718b",
   "metadata": {},
   "outputs": [],
   "source": [
    "strpartition('ayesha','i')"
   ]
  },
  {
   "cell_type": "markdown",
   "id": "58ba7126",
   "metadata": {},
   "source": [
    "# 6. rpartition()"
   ]
  },
  {
   "cell_type": "code",
   "execution_count": 23,
   "id": "9d3882be",
   "metadata": {},
   "outputs": [],
   "source": [
    "def strrpartition(string, separator):\n",
    "    '''\n",
    "         rpartition() Method split the given string into three parts.\n",
    "* rpartition() starts looking for separator from the right side, till the separator is found and return a tuple which contains part of the string before separator, the separator and the part after the separator.\n",
    " Parameters :  \n",
    "* separator –  separates the string at the first occurrence of it.\n",
    " Return Value : \n",
    "* It returns the part the string before the separator, separator parameter itself, and the part after the separator if the separator parameter is found in the string.\n",
    "* It returns two empty strings, followed by the given string if the separator is not found in the string \n",
    "    '''\n",
    "    separatorindex = -1\n",
    "    for i in range(len(string) - 1, -1, -1):\n",
    "        if string[i - len(separator) + 1:i + 1] == separator:\n",
    "            separatorindex = i - len(separator) + 1\n",
    "            break\n",
    "\n",
    "    if separatorindex != -1:\n",
    "        beforeseparator = string[:separatorindex]\n",
    "        afterseparator = string[separatorindex + len(separator):]\n",
    "        return beforeseparator, separator, afterseparator\n",
    "    else:\n",
    "        return \"\", \"\", string"
   ]
  },
  {
   "cell_type": "code",
   "execution_count": 24,
   "id": "97cd2efd",
   "metadata": {},
   "outputs": [
    {
     "data": {
      "text/plain": [
       "'\\n         rpartition() Method split the given string into three parts.\\n* rpartition() starts looking for separator from the right side, till the separator is found and return a tuple which contains part of the string before separator, the separator and the part after the separator.\\n Parameters :  \\n* separator –  separates the string at the first occurrence of it.\\n Return Value : \\n* It returns the part the string before the separator, separator parameter itself, and the part after the separator if the separator parameter is found in the string.\\n* It returns two empty strings, followed by the given string if the separator is not found in the string \\n    '"
      ]
     },
     "execution_count": 24,
     "metadata": {},
     "output_type": "execute_result"
    }
   ],
   "source": [
    "strrpartition.__doc__"
   ]
  },
  {
   "cell_type": "code",
   "execution_count": 25,
   "id": "1cd5b0b9",
   "metadata": {},
   "outputs": [
    {
     "data": {
      "text/plain": [
       "('ayesh', 'a', '')"
      ]
     },
     "execution_count": 25,
     "metadata": {},
     "output_type": "execute_result"
    }
   ],
   "source": [
    "strrpartition('ayesha','a')"
   ]
  },
  {
   "cell_type": "code",
   "execution_count": 26,
   "id": "94795335",
   "metadata": {},
   "outputs": [
    {
     "data": {
      "text/plain": [
       "('', '', 'ayesha')"
      ]
     },
     "execution_count": 26,
     "metadata": {},
     "output_type": "execute_result"
    }
   ],
   "source": [
    "strrpartition('ayesha','i')"
   ]
  },
  {
   "cell_type": "markdown",
   "id": "81fecfe2",
   "metadata": {},
   "source": [
    "# 7. format()"
   ]
  },
  {
   "cell_type": "code",
   "execution_count": 27,
   "id": "37182584",
   "metadata": {},
   "outputs": [],
   "source": [
    "def strformat(string, *args):\n",
    "    '''\n",
    "     The format() method is a powerful tool that allows developers to create formatted strings by embedding variables and values into placeholders within a template string. \n",
    "* This method offers a flexible and versatile way to construct textual output for a wide range of applications.\n",
    "* Python string format() function has been introduced for handling complex string formatting more efficiently.\n",
    "* Sometimes we want to make generalized print statements in that case instead of writing print statements every time we use the concept of formatting.\n",
    " Parameters: \n",
    "* *args : Can be an integer, floating point numeric constant, string, characters or even variables.\n",
    "Returntype:\n",
    "* Returns a formatted string with the value passed as parameter in the placeholder position. \n",
    "    '''\n",
    "    result = \"\"\n",
    "    i = 0\n",
    "    while i < len(string):\n",
    "        if string[i:i+2] == \"{}\":\n",
    "            if args:\n",
    "                result += str(args[0])\n",
    "                args = args[1:]\n",
    "            else:\n",
    "                raise ValueError(\"Not enough arguments for format string\")\n",
    "            i += 2  \n",
    "        else:\n",
    "            result += string[i]\n",
    "            i += 1\n",
    "    return result"
   ]
  },
  {
   "cell_type": "code",
   "execution_count": 28,
   "id": "8e82ad27",
   "metadata": {},
   "outputs": [
    {
     "data": {
      "text/plain": [
       "'\\n     The format() method is a powerful tool that allows developers to create formatted strings by embedding variables and values into placeholders within a template string. \\n* This method offers a flexible and versatile way to construct textual output for a wide range of applications.\\n* Python string format() function has been introduced for handling complex string formatting more efficiently.\\n* Sometimes we want to make generalized print statements in that case instead of writing print statements every time we use the concept of formatting.\\n Parameters: \\n* *args : Can be an integer, floating point numeric constant, string, characters or even variables.\\nReturntype:\\n* Returns a formatted string with the value passed as parameter in the placeholder position. \\n    '"
      ]
     },
     "execution_count": 28,
     "metadata": {},
     "output_type": "execute_result"
    }
   ],
   "source": [
    "strformat.__doc__"
   ]
  },
  {
   "cell_type": "code",
   "execution_count": 29,
   "id": "a4f4acb7",
   "metadata": {},
   "outputs": [
    {
     "data": {
      "text/plain": [
       "'Hello, Pooja! My name  is Ayesha.'"
      ]
     },
     "execution_count": 29,
     "metadata": {},
     "output_type": "execute_result"
    }
   ],
   "source": [
    "string = 'Hello, {}! My name  is {}.'\n",
    "strformat(string,'Pooja','Ayesha')"
   ]
  },
  {
   "cell_type": "markdown",
   "id": "46f1695e",
   "metadata": {},
   "source": [
    "# 8. splitlines() "
   ]
  },
  {
   "cell_type": "code",
   "execution_count": 30,
   "id": "d26b423d",
   "metadata": {},
   "outputs": [],
   "source": [
    "def strsplitlines(string):\n",
    "    '''\n",
    "    splitlines() method is used to split the lines at line boundaries. The function returns a list of lines in the string, including the line break(optional).\n",
    "Parameters:\n",
    " * This can be a number, specifying the position of line break or, can be any Unicode characters, like “\\n”, “\\r”, “\\r\\n”, etc as boundaries for strings.\n",
    "Return Value: \n",
    "* Returns a list of the lines in the string, breaking at line boundaries.\n",
    "\n",
    "     '''\n",
    "    lines = []\n",
    "    start = 0\n",
    "    for i in range(len(string)):\n",
    "        if string[i] == \". \":\n",
    "            lines.append(string[start:i])\n",
    "            start = i + 1\n",
    "    lines.append(string[start:])\n",
    "    return lines\n"
   ]
  },
  {
   "cell_type": "code",
   "execution_count": 31,
   "id": "24169d7b",
   "metadata": {},
   "outputs": [
    {
     "data": {
      "text/plain": [
       "'\\n    splitlines() method is used to split the lines at line boundaries. The function returns a list of lines in the string, including the line break(optional).\\nParameters:\\n * This can be a number, specifying the position of line break or, can be any Unicode characters, like “\\n”, “\\r”, “\\r\\n”, etc as boundaries for strings.\\nReturn Value: \\n* Returns a list of the lines in the string, breaking at line boundaries.\\n\\n     '"
      ]
     },
     "execution_count": 31,
     "metadata": {},
     "output_type": "execute_result"
    }
   ],
   "source": [
    "strsplitlines.__doc__"
   ]
  },
  {
   "cell_type": "code",
   "execution_count": 32,
   "id": "2d7fceb3",
   "metadata": {
    "scrolled": false
   },
   "outputs": [
    {
     "data": {
      "text/plain": [
       "['There are many types of essays you might write as a student. The content and length of an essay depends on your level, subject of study, and course requirements. However, most essays at university level are argumentative—they aim to persuade the reader of a particular position or perspective on a topic.']"
      ]
     },
     "execution_count": 32,
     "metadata": {},
     "output_type": "execute_result"
    }
   ],
   "source": [
    "strsplitlines('There are many types of essays you might write as a student. The content and length of an essay depends on your level, subject of study, and course requirements. However, most essays at university level are argumentative—they aim to persuade the reader of a particular position or perspective on a topic.')"
   ]
  },
  {
   "cell_type": "markdown",
   "id": "61e3b840",
   "metadata": {},
   "source": [
    "# 9. split() "
   ]
  },
  {
   "cell_type": "code",
   "execution_count": 33,
   "id": "e36beb60",
   "metadata": {},
   "outputs": [],
   "source": [
    "def strsplit(string, sep, maxsplit):\n",
    "    '''\n",
    "     split() method in Python split a string into a list of strings after breaking the given string by the specified separator.\n",
    "##### Parameters :\n",
    "* sep: This is a delimiter. The string splits at this specified separator. If is not provided then any white space is a separator.\n",
    "* maxsplit: It is a number, which tells us to split the string into maximum of provided number of times. If it is not provided then the default is -1 that means there is no limit.\n",
    "##### Returns :\n",
    "* Returns a list of strings after breaking the given string by the specified separator.\n",
    "\n",
    "    '''\n",
    "    l = []\n",
    "    start = 0\n",
    "    count = 0\n",
    "    for _ in range(maxsplit):\n",
    "        end = string.find(sep, start)\n",
    "        if end == -1:\n",
    "            l.append(string[start:])\n",
    "            break\n",
    "        else:\n",
    "            l.append(string[start:end])\n",
    "            start = end + len(sep)\n",
    "    if start < len(string):\n",
    "        l.append(string[start:])\n",
    "    \n",
    "    return l"
   ]
  },
  {
   "cell_type": "code",
   "execution_count": 34,
   "id": "2ebfba57",
   "metadata": {},
   "outputs": [
    {
     "data": {
      "text/plain": [
       "'\\n     split() method in Python split a string into a list of strings after breaking the given string by the specified separator.\\n##### Parameters :\\n* sep: This is a delimiter. The string splits at this specified separator. If is not provided then any white space is a separator.\\n* maxsplit: It is a number, which tells us to split the string into maximum of provided number of times. If it is not provided then the default is -1 that means there is no limit.\\n##### Returns :\\n* Returns a list of strings after breaking the given string by the specified separator.\\n\\n    '"
      ]
     },
     "execution_count": 34,
     "metadata": {},
     "output_type": "execute_result"
    }
   ],
   "source": [
    "strsplit.__doc__ "
   ]
  },
  {
   "cell_type": "code",
   "execution_count": 35,
   "id": "40b143a0",
   "metadata": {},
   "outputs": [
    {
     "data": {
      "text/plain": [
       "['apple', 'orange', 'banana', 'grape', 'kiwi']"
      ]
     },
     "execution_count": 35,
     "metadata": {},
     "output_type": "execute_result"
    }
   ],
   "source": [
    "strsplit(\"apple,orange,banana,grape,kiwi\",',',4)"
   ]
  },
  {
   "cell_type": "markdown",
   "id": "64f621b4",
   "metadata": {},
   "source": [
    "# 10. rsplit()"
   ]
  },
  {
   "cell_type": "code",
   "execution_count": 45,
   "id": "ade48653",
   "metadata": {},
   "outputs": [],
   "source": [
    "def strrsplit(string, sep, maxsplit):\n",
    "    ''' \n",
    "    rsplit() method returns a list of strings after breaking the given string from the right side by the specified separator.\n",
    " Parameters:  \n",
    "* sep: The is a delimiter. The string splits at this specified separator starting from the right side. If not provided then any white space character is a separator.\n",
    "* maxsplit: It is a number, which tells us to split the string into a maximum of provided number of times. If it is not provided then there is no limit.  \n",
    " Return: \n",
    "* Returns a list of strings after breaking the given string from the right side by the specified separator\n",
    "    \n",
    "    '''\n",
    "    l = []\n",
    "    end = len(string)\n",
    "    for _ in range(maxsplit):\n",
    "        start = string.rfind(sep, 0, end)\n",
    "        if start == -1:\n",
    "            l.insert(0,string[:end])\n",
    "            break\n",
    "        else:\n",
    "            l.insert(0,string[start:end])\n",
    "            end = start\n",
    "    if end > 0:\n",
    "        l.insert(0,string[:end])\n",
    "    \n",
    "    return l"
   ]
  },
  {
   "cell_type": "code",
   "execution_count": 46,
   "id": "75b4b9db",
   "metadata": {},
   "outputs": [
    {
     "data": {
      "text/plain": [
       "' \\n    rsplit() method returns a list of strings after breaking the given string from the right side by the specified separator.\\n Parameters:  \\n* sep: The is a delimiter. The string splits at this specified separator starting from the right side. If not provided then any white space character is a separator.\\n* maxsplit: It is a number, which tells us to split the string into a maximum of provided number of times. If it is not provided then there is no limit.  \\n Return: \\n* Returns a list of strings after breaking the given string from the right side by the specified separator\\n    \\n    '"
      ]
     },
     "execution_count": 46,
     "metadata": {},
     "output_type": "execute_result"
    }
   ],
   "source": [
    "strrsplit.__doc__"
   ]
  },
  {
   "cell_type": "code",
   "execution_count": 48,
   "id": "947ab59a",
   "metadata": {},
   "outputs": [
    {
     "data": {
      "text/plain": [
       "['apple,orange,banana,grape', ',kiwi']"
      ]
     },
     "execution_count": 48,
     "metadata": {},
     "output_type": "execute_result"
    }
   ],
   "source": [
    "strrsplit(\"apple,orange,banana,grape,kiwi\", ',',1)"
   ]
  },
  {
   "cell_type": "markdown",
   "id": "3d5cb608",
   "metadata": {},
   "source": [
    "# 11. islower"
   ]
  },
  {
   "cell_type": "code",
   "execution_count": 1,
   "id": "05e3c3f9",
   "metadata": {},
   "outputs": [],
   "source": [
    "def strislower(string):\n",
    "    '''\n",
    "    islower() method checks if all characters in the string are lowercase.\n",
    "    This method returns True if all alphabets in a string are lowercase alphabets.\n",
    "    If the string contains at least one uppercase alphabet, it returns False.\n",
    "    '''\n",
    "    for i in string:\n",
    "        asciicode = ord(i)\n",
    "    if asciicode in range(97,125):\n",
    "        return True\n",
    "    else:\n",
    "        return False\n",
    "    "
   ]
  },
  {
   "cell_type": "code",
   "execution_count": 49,
   "id": "e72c4360",
   "metadata": {},
   "outputs": [
    {
     "data": {
      "text/plain": [
       "True"
      ]
     },
     "execution_count": 49,
     "metadata": {},
     "output_type": "execute_result"
    }
   ],
   "source": [
    "strislower('Ashu')"
   ]
  },
  {
   "cell_type": "code",
   "execution_count": 50,
   "id": "3f100951",
   "metadata": {},
   "outputs": [
    {
     "data": {
      "text/plain": [
       "False"
      ]
     },
     "execution_count": 50,
     "metadata": {},
     "output_type": "execute_result"
    }
   ],
   "source": [
    "strislower('ASHU')"
   ]
  },
  {
   "cell_type": "markdown",
   "id": "9c2c4fc2",
   "metadata": {},
   "source": [
    "# 12. isnumeric"
   ]
  },
  {
   "cell_type": "code",
   "execution_count": 51,
   "id": "595b0899",
   "metadata": {},
   "outputs": [],
   "source": [
    "def strisnumeric(string):\n",
    "    '''\n",
    "    isnumeric() method is used to determine whether the string consists of numeric characters or not.\n",
    "    It returns a Boolean value.\n",
    "    If all characters in the string are numeric and it is not empty, it returns “True”\n",
    "    If all characters in the string are numeric characters, otherwise returns “False”.\n",
    "    isnumeric() does not take any parameters\n",
    "    '''\n",
    "    for num in string:\n",
    "        asciicode = ord(num)\n",
    "    if asciicode in range(48,58) or asciicode==46:\n",
    "        return True\n",
    "    else:\n",
    "        return False"
   ]
  },
  {
   "cell_type": "code",
   "execution_count": 52,
   "id": "e60029e8",
   "metadata": {},
   "outputs": [
    {
     "data": {
      "text/plain": [
       "True"
      ]
     },
     "execution_count": 52,
     "metadata": {},
     "output_type": "execute_result"
    }
   ],
   "source": [
    "strisnumeric(\"2,3,4\")"
   ]
  },
  {
   "cell_type": "markdown",
   "id": "c7d24c15",
   "metadata": {},
   "source": [
    "# 13. isalnum"
   ]
  },
  {
   "cell_type": "code",
   "execution_count": 53,
   "id": "000fc054",
   "metadata": {},
   "outputs": [],
   "source": [
    "def strisalnum(string):\n",
    "    '''\n",
    "     isalnum() = method checks whether all the characters in a given string are either alphabet or\n",
    "     numeric (alphanumeric) characters.\n",
    "     isalnum() method takes no parameters.\n",
    "    '''\n",
    "    for i in string:\n",
    "        asciicode = ord(i)\n",
    "    if  asciicode in (range(97,123) and range(48,58)):\n",
    "            print(True)\n",
    "    else:\n",
    "            print(False)"
   ]
  },
  {
   "cell_type": "code",
   "execution_count": 54,
   "id": "d06679c2",
   "metadata": {},
   "outputs": [
    {
     "name": "stdout",
     "output_type": "stream",
     "text": [
      "True\n"
     ]
    }
   ],
   "source": [
    "strisalnum(\"string123\")"
   ]
  },
  {
   "cell_type": "markdown",
   "id": "4cae4650",
   "metadata": {},
   "source": [
    "# 14. isalpha"
   ]
  },
  {
   "cell_type": "code",
   "execution_count": 55,
   "id": "13703c78",
   "metadata": {},
   "outputs": [],
   "source": [
    "def strisalpha(string):\n",
    "    '''\n",
    "    isalpha() method is used to check whether all characters in the String are an alphabet.\n",
    "    isalpha() does not take any parameters.\n",
    "    '''\n",
    "    for i in string:\n",
    "        asciicode = ord(i)\n",
    "    if  asciicode in (range(65,91) or range(97,123)):\n",
    "          print(True)\n",
    "    else:\n",
    "          print(False)"
   ]
  },
  {
   "cell_type": "code",
   "execution_count": 56,
   "id": "120ec17e",
   "metadata": {},
   "outputs": [
    {
     "name": "stdout",
     "output_type": "stream",
     "text": [
      "True\n"
     ]
    }
   ],
   "source": [
    "strisalpha('PYTHON')"
   ]
  },
  {
   "cell_type": "markdown",
   "id": "f1b9972f",
   "metadata": {},
   "source": [
    "# 15. isascii"
   ]
  },
  {
   "cell_type": "code",
   "execution_count": 57,
   "id": "6536273e",
   "metadata": {},
   "outputs": [],
   "source": [
    "def strisascii(string):\n",
    "    '''\n",
    "    isascii() method checks if all characters in a given Python string are ASCII characters.\n",
    "    If they are, it returns True; otherwise, it returns False.\n",
    "    The Python string isascii method doesn’t accept any parameters.'''\n",
    "    for i in string:\n",
    "        asciicode = ord(i)\n",
    "    if  ord(i)<128:\n",
    "          print(True)\n",
    "    else:\n",
    "          print(False)"
   ]
  },
  {
   "cell_type": "code",
   "execution_count": 58,
   "id": "d1b6e42e",
   "metadata": {},
   "outputs": [
    {
     "name": "stdout",
     "output_type": "stream",
     "text": [
      "True\n"
     ]
    }
   ],
   "source": [
    "strisascii('hello world')"
   ]
  },
  {
   "cell_type": "markdown",
   "id": "283ef541",
   "metadata": {},
   "source": [
    "# 16. isdecimal"
   ]
  },
  {
   "cell_type": "code",
   "execution_count": 60,
   "id": "7788e28f",
   "metadata": {},
   "outputs": [],
   "source": [
    "def strisdecimal(string):\n",
    "    '''\n",
    "    isdecimal() function returns true if all characters in a string are decimal, else it returns False.\n",
    "    string_name is the string whose characters are to be checked\n",
    "    This method does not takes any parameters .\n",
    "    '''\n",
    "    for char in string:\n",
    "        asciicode = ord(char)\n",
    "        if not (48 <= asciicode <= 58):\n",
    "            print('False')\n",
    "            return\n",
    "    print('True')"
   ]
  },
  {
   "cell_type": "code",
   "execution_count": 61,
   "id": "315d0447",
   "metadata": {},
   "outputs": [
    {
     "name": "stdout",
     "output_type": "stream",
     "text": [
      "True\n"
     ]
    }
   ],
   "source": [
    "strisdecimal('1234')"
   ]
  },
  {
   "cell_type": "markdown",
   "id": "b4196fbe",
   "metadata": {},
   "source": [
    "# 17. isdigit"
   ]
  },
  {
   "cell_type": "code",
   "execution_count": 62,
   "id": "2c2d1396",
   "metadata": {},
   "outputs": [],
   "source": [
    "def strisdigit(string):\n",
    "    '''\n",
    "    isdigit() method returns “True” if all characters in the string are digits, Otherwise, It returns “False”. \n",
    "    isdigit() does not take any parameters'''\n",
    "    for i in string:\n",
    "        asciicode = ord(i)\n",
    "    if  48 <= asciicode <=58:\n",
    "          print(True)\n",
    "    else:\n",
    "          print(False)"
   ]
  },
  {
   "cell_type": "code",
   "execution_count": 63,
   "id": "c640bd34",
   "metadata": {},
   "outputs": [
    {
     "name": "stdout",
     "output_type": "stream",
     "text": [
      "True\n"
     ]
    }
   ],
   "source": [
    "strisdigit(\"123\")"
   ]
  },
  {
   "cell_type": "markdown",
   "id": "6f9e97f4",
   "metadata": {},
   "source": [
    "# 18. isidentifier"
   ]
  },
  {
   "cell_type": "code",
   "execution_count": 64,
   "id": "0404adaa",
   "metadata": {},
   "outputs": [],
   "source": [
    " def strisidentifier(string):\n",
    "    '''\n",
    "    isidentifier() method is used to check whether a string is a valid identifier or not.\n",
    "    The method returns True if the string is a valid identifier, else returns False.\n",
    "    The method does not take any parameters.\n",
    "    '''\n",
    "    for i in string:\n",
    "        asciicode = ord(i)\n",
    "    if  not 48 <= asciicode <=58:\n",
    "          print(True)\n",
    "    else:\n",
    "          print(False)"
   ]
  },
  {
   "cell_type": "code",
   "execution_count": 65,
   "id": "8206a667",
   "metadata": {},
   "outputs": [
    {
     "name": "stdout",
     "output_type": "stream",
     "text": [
      "True\n"
     ]
    }
   ],
   "source": [
    "strisidentifier('abc')"
   ]
  },
  {
   "cell_type": "code",
   "execution_count": 66,
   "id": "e9ca2365",
   "metadata": {},
   "outputs": [
    {
     "name": "stdout",
     "output_type": "stream",
     "text": [
      "False\n"
     ]
    }
   ],
   "source": [
    "strisidentifier('123')"
   ]
  },
  {
   "cell_type": "markdown",
   "id": "12356bca",
   "metadata": {},
   "source": [
    "# 19. removeprefix"
   ]
  },
  {
   "cell_type": "code",
   "execution_count": 68,
   "id": "fb6607d0",
   "metadata": {},
   "outputs": [],
   "source": [
    "def str_removeprefix(string, prefix):\n",
    "    prefix_length = len(prefix)\n",
    "    if len(string) >= prefix_length and all(string[i] == prefix[i] for i in range(prefix_length)):\n",
    "        print(string[prefix_length:])\n",
    "    else:\n",
    "        print(string)"
   ]
  },
  {
   "cell_type": "code",
   "execution_count": 70,
   "id": "d83df734",
   "metadata": {},
   "outputs": [
    {
     "name": "stdout",
     "output_type": "stream",
     "text": [
      "kanth\n"
     ]
    }
   ],
   "source": [
    "str_removeprefix(\"srikanth\",'sri')"
   ]
  },
  {
   "cell_type": "markdown",
   "id": "f7196a31",
   "metadata": {},
   "source": [
    "# 20. removesuffix"
   ]
  },
  {
   "cell_type": "code",
   "execution_count": 71,
   "id": "244a524b",
   "metadata": {},
   "outputs": [],
   "source": [
    "def str_removesuffix(string, suffix):\n",
    "    suffix_length = len(suffix)\n",
    "    if len(string) >= suffix_length and all(string[-i] == suffix[-i] for i in range(1, suffix_length + 1)): #cheaking weather string has suffix or not\n",
    "        print(string[:-suffix_length])\n",
    "    else:\n",
    "        print(string)"
   ]
  },
  {
   "cell_type": "code",
   "execution_count": 72,
   "id": "95f05887",
   "metadata": {},
   "outputs": [
    {
     "name": "stdout",
     "output_type": "stream",
     "text": [
      "sri\n"
     ]
    }
   ],
   "source": [
    "str_removesuffix(\"srikanth\",'kanth')"
   ]
  },
  {
   "cell_type": "markdown",
   "id": "a6aee64d",
   "metadata": {},
   "source": [
    "# 21. replace"
   ]
  },
  {
   "cell_type": "code",
   "execution_count": 73,
   "id": "36e82840",
   "metadata": {},
   "outputs": [],
   "source": [
    "def str_replace(string, old_substring, new_substring):\n",
    "    result = \"\"\n",
    "    i = 0\n",
    "    while i < len(string):\n",
    "        if string[i:i + len(old_substring)] == old_substring:\n",
    "            result += new_substring\n",
    "            i += len(old_substring)\n",
    "        else:\n",
    "            result += string[i]\n",
    "            i += 1\n",
    "    return result"
   ]
  },
  {
   "cell_type": "code",
   "execution_count": 74,
   "id": "c8244d40",
   "metadata": {},
   "outputs": [
    {
     "data": {
      "text/plain": [
       "'saigowtham'"
      ]
     },
     "execution_count": 74,
     "metadata": {},
     "output_type": "execute_result"
    }
   ],
   "source": [
    "str_replace(\"srikanth\",\"srikanth\",\"saigowtham\")"
   ]
  },
  {
   "cell_type": "code",
   "execution_count": 75,
   "id": "70b63520",
   "metadata": {},
   "outputs": [
    {
     "data": {
      "text/plain": [
       "'saikanth'"
      ]
     },
     "execution_count": 75,
     "metadata": {},
     "output_type": "execute_result"
    }
   ],
   "source": [
    "str_replace(\"srikanth\",\"sri\",\"sai\")"
   ]
  },
  {
   "cell_type": "markdown",
   "id": "68e460d0",
   "metadata": {},
   "source": [
    "# 22. Upper"
   ]
  },
  {
   "cell_type": "code",
   "execution_count": 76,
   "id": "5fdfd111",
   "metadata": {},
   "outputs": [],
   "source": [
    "def Str_Upper(s):\n",
    "    z = ''\n",
    "    for ele in s:\n",
    "        if 97 <= ord(ele) <= 122:  # Check if the character is a lowercase letter\n",
    "            z += chr(ord(ele) - 32)  # Convert lowercase to uppercase using ASCII values\n",
    "        else:\n",
    "            z += ele  # Leave non-lowercase characters unchanged\n",
    "            \n",
    "    return z\n"
   ]
  },
  {
   "cell_type": "code",
   "execution_count": 77,
   "id": "92cd0b36",
   "metadata": {},
   "outputs": [
    {
     "data": {
      "text/plain": [
       "'SRI KANATH'"
      ]
     },
     "execution_count": 77,
     "metadata": {},
     "output_type": "execute_result"
    }
   ],
   "source": [
    " Str_Upper('sRi kaNatH')"
   ]
  },
  {
   "cell_type": "markdown",
   "id": "d35c043b",
   "metadata": {},
   "source": [
    "# 23. isupper"
   ]
  },
  {
   "cell_type": "code",
   "execution_count": 80,
   "id": "cf0a8c5b",
   "metadata": {},
   "outputs": [],
   "source": [
    "def strisupper(string):\n",
    "    for char in string:\n",
    "        asciicode = ord(char)\n",
    "        if not (65 <= asciicode <= 90):\n",
    "            print('False')\n",
    "            return\n",
    "    print('True')"
   ]
  },
  {
   "cell_type": "code",
   "execution_count": 81,
   "id": "e5a94eee",
   "metadata": {},
   "outputs": [
    {
     "name": "stdout",
     "output_type": "stream",
     "text": [
      "False\n"
     ]
    }
   ],
   "source": [
    "strisupper('SrikantH')"
   ]
  },
  {
   "cell_type": "code",
   "execution_count": 82,
   "id": "5bf16c5c",
   "metadata": {},
   "outputs": [
    {
     "name": "stdout",
     "output_type": "stream",
     "text": [
      "True\n"
     ]
    }
   ],
   "source": [
    "strisupper('AB')"
   ]
  },
  {
   "cell_type": "markdown",
   "id": "e78c3bec",
   "metadata": {},
   "source": [
    "# 24. isspace"
   ]
  },
  {
   "cell_type": "code",
   "execution_count": 100,
   "id": "26effc52",
   "metadata": {},
   "outputs": [],
   "source": [
    "def strisspace(string):\n",
    "    for char in string:\n",
    "        if char != ' ' and char != '\\t' and char != '\\n':\n",
    "            print('False')\n",
    "            return\n",
    "    print('True')"
   ]
  },
  {
   "cell_type": "code",
   "execution_count": 101,
   "id": "df91680f",
   "metadata": {},
   "outputs": [
    {
     "name": "stdout",
     "output_type": "stream",
     "text": [
      "True\n"
     ]
    }
   ],
   "source": [
    " strisspace(' ')"
   ]
  },
  {
   "cell_type": "markdown",
   "id": "33dca388",
   "metadata": {},
   "source": [
    "# 25. title"
   ]
  },
  {
   "cell_type": "code",
   "execution_count": 103,
   "id": "6379d362",
   "metadata": {},
   "outputs": [],
   "source": [
    "def str_title(string):\n",
    "    title = \"\"\n",
    "    capitalize_next = True\n",
    "\n",
    "    for char in string:  # Fix: Change 'sentence' to 'string'\n",
    "        if char == ' ' or char == '\\t':  # Check if the character is a space or a tab\n",
    "            capitalize_next = True\n",
    "            title += char\n",
    "        else:\n",
    "            if capitalize_next:  # Check if the next character should be capitalized\n",
    "                if 'a' <= char <= 'z':  # Check if the character is a lowercase letter\n",
    "                    title += chr(ord(char) - ord('a') + ord('A'))  # Convert the lowercase letter to uppercase using ASCII values\n",
    "                else:\n",
    "                    title += char\n",
    "                capitalize_next = False\n",
    "            else:\n",
    "                title += char\n",
    "\n",
    "    return title\n"
   ]
  },
  {
   "cell_type": "code",
   "execution_count": 105,
   "id": "4a9cab77",
   "metadata": {},
   "outputs": [
    {
     "data": {
      "text/plain": [
       "'Hii Hello This Is Ayesha'"
      ]
     },
     "execution_count": 105,
     "metadata": {},
     "output_type": "execute_result"
    }
   ],
   "source": [
    "str_title( 'hii Hello This Is Ayesha')"
   ]
  },
  {
   "cell_type": "markdown",
   "id": "4e79ffd7",
   "metadata": {},
   "source": [
    "# 26. isdecimal"
   ]
  },
  {
   "cell_type": "code",
   "execution_count": 108,
   "id": "c28c6524",
   "metadata": {},
   "outputs": [],
   "source": [
    "def strisdecimal(string):\n",
    "    for char in string:\n",
    "        asciicode = ord(char)\n",
    "        if not (48 <= asciicode <= 58):\n",
    "            print('False')\n",
    "            return\n",
    "    print('True')"
   ]
  },
  {
   "cell_type": "code",
   "execution_count": 109,
   "id": "ce36aa59",
   "metadata": {},
   "outputs": [
    {
     "name": "stdout",
     "output_type": "stream",
     "text": [
      "True\n"
     ]
    }
   ],
   "source": [
    "strisdecimal(\"62782\")"
   ]
  },
  {
   "cell_type": "markdown",
   "id": "20d77aa1",
   "metadata": {},
   "source": [
    "# 27. zfill"
   ]
  },
  {
   "cell_type": "code",
   "execution_count": 110,
   "id": "def06a82",
   "metadata": {},
   "outputs": [],
   "source": [
    "def custom_zfill(original_string, width):\n",
    "    if len(original_string) >= width:\n",
    "        return original_string\n",
    "    else:\n",
    "        num_zeros = width - len(original_string)\n",
    "        padded_string = '0' * num_zeros + original_string\n",
    "        return padded_string"
   ]
  },
  {
   "cell_type": "code",
   "execution_count": 113,
   "id": "7107c930",
   "metadata": {},
   "outputs": [
    {
     "name": "stdout",
     "output_type": "stream",
     "text": [
      "Enter the original string: Sidhikha\n",
      "Enter the desired width: 9\n",
      "Padded String: 0Sidhikha\n"
     ]
    }
   ],
   "source": [
    "# Get user input\n",
    "original_string = input(\"Enter the original string: \")\n",
    "width = int(input(\"Enter the desired width: \"))\n",
    "\n",
    "# Call the custom_zfill function\n",
    "result = custom_zfill(original_string, width)\n",
    "\n",
    "# Print the result\n",
    "print(\"Padded String:\", result)\n"
   ]
  },
  {
   "cell_type": "markdown",
   "id": "4d2062fd",
   "metadata": {},
   "source": [
    "# 28. join"
   ]
  },
  {
   "cell_type": "code",
   "execution_count": 114,
   "id": "8100f533",
   "metadata": {},
   "outputs": [],
   "source": [
    "def my_join(separator, iterable):\n",
    "    \"\"\"\n",
    "    Custom string join function.\n",
    "    Parameters:\n",
    "    separator (str): The string that will be used to concatenate the elements.\n",
    "    iterable (iterable): An iterable (e.g., list, tuple) containing the elements to be joined.\n",
    "    Returns:\n",
    "    str: A string resulting from concatenating the elements in the iterable with the separator.\n",
    "    \"\"\"\n",
    "    if not iterable: # Check if the iterable is not empty\n",
    "        return \"\"\n",
    "    result = str(iterable[0]) # Initialize the result string with the first element\n",
    "    for element in iterable[1:]: # Iterate over the remaining elements and concatenate them with the separator\n",
    "        result += separator + str(element)\n",
    "    return result"
   ]
  },
  {
   "cell_type": "code",
   "execution_count": 115,
   "id": "52fcb4dc",
   "metadata": {},
   "outputs": [
    {
     "name": "stdout",
     "output_type": "stream",
     "text": [
      "Ashu is Good Girl\n"
     ]
    }
   ],
   "source": [
    "words = [\"Ashu\", \"is\", \"Good\", \"Girl\"]\n",
    "result = my_join(\" \", words)\n",
    "print(result)"
   ]
  },
  {
   "cell_type": "markdown",
   "id": "bb6d9b5b",
   "metadata": {},
   "source": [
    "# 29. strip"
   ]
  },
  {
   "cell_type": "code",
   "execution_count": 117,
   "id": "c2cf3fdd",
   "metadata": {},
   "outputs": [],
   "source": [
    "def my_strip(input_string, characters_to_remove=None):\n",
    "    \"\"\"\n",
    "    Custom implementation of strip() method in Python.\n",
    "    Parameters:\n",
    "    input_string: The string to be stripped.\n",
    "    characters_to_remove (optional): A string specifying the characters to be removed. \n",
    "    If not provided, it removes leading and trailing whitespaces.\n",
    "    Returns:\n",
    "    - The stripped string.\n",
    "    \"\"\"\n",
    "    if characters_to_remove is None: # If characters_to_remove is not provided, default to removing whitespaces\n",
    "        characters_to_remove = \" \\t\\n\\r\\f\\v\"\n",
    "    start = 0 # Remove leading characters\n",
    "    while start < len(input_string) and input_string[start] in characters_to_remove:\n",
    "        start += 1\n",
    "    end = len(input_string) - 1 # Remove trailing characters\n",
    "    while end >= 0 and input_string[end] in characters_to_remove:\n",
    "        end -= 1\n",
    "    return input_string[start:end + 1] # Return the stripped substring"
   ]
  },
  {
   "cell_type": "code",
   "execution_count": 118,
   "id": "ce28864e",
   "metadata": {},
   "outputs": [
    {
     "name": "stdout",
     "output_type": "stream",
     "text": [
      "Original String: '   Hello, Sidhikha!   '\n",
      "Stripped String: 'Hello, Sidhikha!'\n"
     ]
    }
   ],
   "source": [
    "original_string = \"   Hello, Sidhikha!   \"\n",
    "stripped_string = my_strip(original_string)\n",
    "print(\"Original String:\", repr(original_string))\n",
    "print(\"Stripped String:\", repr(stripped_string))"
   ]
  },
  {
   "cell_type": "markdown",
   "id": "7de7120f",
   "metadata": {},
   "source": [
    "# 30. lstrip"
   ]
  },
  {
   "cell_type": "code",
   "execution_count": 120,
   "id": "62bc0a82",
   "metadata": {},
   "outputs": [],
   "source": [
    "def my_lstrip(s, chars=None):\n",
    "    \"\"\"\n",
    "    Custom implementation of lstrip method.\n",
    "    Parameters:\n",
    "    s (str): The input string from which leading characters will be removed.\n",
    "    chars (str, optional): The characters to be stripped. If not provided,\n",
    "    whitespaces are removed by default.\n",
    "    Returns:\n",
    "    str: The string with leading characters removed.\n",
    "    \"\"\"\n",
    "    if chars is None: # If chars is not provided, initialize it with whitespaces\n",
    "        chars = ' '\n",
    "    index = 0 # Initialize the index to keep track of the characters to be stripped\n",
    "    while index < len(s) and s[index] in chars: # Loop through the string until a character not in chars is encountered\n",
    "        index += 1\n",
    "    return s[index:] # Return the substring starting from the first character not in chars"
   ]
  },
  {
   "cell_type": "code",
   "execution_count": 122,
   "id": "a892cbeb",
   "metadata": {},
   "outputs": [
    {
     "name": "stdout",
     "output_type": "stream",
     "text": [
      "Hello, Sidhikha!   \n"
     ]
    }
   ],
   "source": [
    "original_string = \"   Hello, Sidhikha!   \"\n",
    "result = my_lstrip(original_string)\n",
    "print(result)"
   ]
  },
  {
   "cell_type": "markdown",
   "id": "ab5081e5",
   "metadata": {},
   "source": [
    "# 31. rstrip"
   ]
  },
  {
   "cell_type": "code",
   "execution_count": 123,
   "id": "d91279b7",
   "metadata": {},
   "outputs": [],
   "source": [
    "def my_rstrip(input_string):\n",
    "    \"\"\"\n",
    "    Custom implementation of the rstrip method.\n",
    "    Removes trailing whitespaces (spaces, tabs, and newline characters)\n",
    "    from the right end of the input string.\n",
    "    Parameters:\n",
    "    input_string (str): The string from which trailing whitespaces should be removed.\n",
    "    Returns:\n",
    "    str: The input string with trailing whitespaces removed.\n",
    "    \"\"\"\n",
    "    index = len(input_string) - 1 # Initialize the index to the last character of the string\n",
    "    while index >= 0 and input_string[index].isspace(): # Iterate from the right end of the string\n",
    "        index -= 1\n",
    "    return input_string[:index + 1] # Return the substring up to the last non-whitespace character\n"
   ]
  },
  {
   "cell_type": "code",
   "execution_count": 124,
   "id": "5ec664a5",
   "metadata": {},
   "outputs": [
    {
     "name": "stdout",
     "output_type": "stream",
     "text": [
      "Original String: '   Hello, Sidhikha  \t\n",
      "'\n",
      "My Rstrip Result: '   Hello, Sidhikha'\n"
     ]
    }
   ],
   "source": [
    "# Example usage:\n",
    "original_string = \"   Hello, Sidhikha  \\t\\n\"\n",
    "result = my_rstrip(original_string)\n",
    "print(f\"Original String: '{original_string}'\")\n",
    "print(f\"My Rstrip Result: '{result}'\")"
   ]
  },
  {
   "cell_type": "markdown",
   "id": "d9818875",
   "metadata": {},
   "source": [
    "# 32. ljust"
   ]
  },
  {
   "cell_type": "code",
   "execution_count": 125,
   "id": "da405f03",
   "metadata": {},
   "outputs": [],
   "source": [
    "def my_ljust(input_string, width, fillchar=' '):\n",
    "    \"\"\"\n",
    "    Custom implementation of the ljust method.\n",
    "    Parameters:\n",
    "    input_string: The original string to be left-justified.\n",
    "    width: The width of the resulting string, including the original string and padding.\n",
    "    fillchar: The character used for padding (default is space ' ').\n",
    "    Returns:\n",
    "    A left-justified string with padding on the right side.\n",
    "    \"\"\"\n",
    "    padding_length = max(0, width - len(input_string)) # Calculate the number of characters needed for padding\n",
    "    result_string = input_string + fillchar * padding_length # Concatenate the original string with the padding characters\n",
    "    return result_string"
   ]
  },
  {
   "cell_type": "code",
   "execution_count": 126,
   "id": "d2ac0b65",
   "metadata": {},
   "outputs": [
    {
     "name": "stdout",
     "output_type": "stream",
     "text": [
      "Original String: 'Sidhikha'\n",
      "Left-Justified Result: 'Sidhikha  '\n"
     ]
    }
   ],
   "source": [
    "original_string = \"Sidhikha\"\n",
    "width = 10\n",
    "result = my_ljust(original_string, width) # Using the custom ljust function\n",
    "print(f\"Original String: '{original_string}'\") # Display the result\n",
    "print(f\"Left-Justified Result: '{result}'\")"
   ]
  },
  {
   "cell_type": "markdown",
   "id": "ad706844",
   "metadata": {},
   "source": [
    "# 33.rjust"
   ]
  },
  {
   "cell_type": "code",
   "execution_count": 128,
   "id": "9914ec9a",
   "metadata": {},
   "outputs": [],
   "source": [
    "def my_rjust(input_str, width, fillchar=' '):\n",
    "    \"\"\"\n",
    "    Right-justifies the given string within the specified width.\n",
    "    Parameters:\n",
    "    input_str (str): The input string to be right-justified.\n",
    "    width (int): The width of the resulting string.\n",
    "    fillchar (str, optional): The character used for padding (default is space ' ').\n",
    "    Returns:\n",
    "    str: The right-justified string.\n",
    "    Example:\n",
    "    >>> custom_rjust('hello', 10)\n",
    "    '     hello'\n",
    "    >>> custom_rjust('world', 10, '-')\n",
    "    '-----world'\n",
    "    \"\"\"\n",
    "    if not isinstance(input_str, str): # Check if the input is a string\n",
    "        raise TypeError(\"Input must be a string\")\n",
    "    padding_width = max(0, width - len(input_str)) # Calculate the amount of padding needed\n",
    "    result_str = fillchar * padding_width + input_str # Perform the right justification\n",
    "    return result_str"
   ]
  },
  {
   "cell_type": "code",
   "execution_count": 129,
   "id": "c03a9c89",
   "metadata": {},
   "outputs": [
    {
     "name": "stdout",
     "output_type": "stream",
     "text": [
      "     hello\n",
      "------Ashu\n"
     ]
    }
   ],
   "source": [
    "result1 = my_rjust('hello', 10)\n",
    "result2 = my_rjust('Ashu', 10, '-')\n",
    "print(result1)  # Output: '     hello'\n",
    "print(result2)  # Output: '-----valli'"
   ]
  },
  {
   "cell_type": "markdown",
   "id": "741b0fa3",
   "metadata": {},
   "source": [
    "# 34. swapcase"
   ]
  },
  {
   "cell_type": "code",
   "execution_count": 131,
   "id": "80b2f55e",
   "metadata": {},
   "outputs": [],
   "source": [
    "def my_swapcase(input_string):\n",
    "    \"\"\"\n",
    "    Swap the case of each character in the input string.\n",
    "    Parameters:\n",
    "    input_string (str): The string for which the case of each character will be swapped.\n",
    "    Returns:\n",
    "    str: A new string with the case of each character swapped.\n",
    "    \"\"\"\n",
    "    swapped_string = \"\" # Initialize an empty string to store the result\n",
    "    for char in input_string: # Iterate through each character in the input string\n",
    "        if char.isupper(): # Check if the character is uppercase and convert to lowercase, or vice versa\n",
    "            swapped_string += char.lower()\n",
    "        elif char.islower():\n",
    "            swapped_string += char.upper()\n",
    "        else:\n",
    "            swapped_string += char # If the character is not a letter, leave it unchanged\n",
    "    return swapped_string"
   ]
  },
  {
   "cell_type": "code",
   "execution_count": 133,
   "id": "42742c66",
   "metadata": {},
   "outputs": [
    {
     "name": "stdout",
     "output_type": "stream",
     "text": [
      "hELLO, sIDHIKHA!\n"
     ]
    }
   ],
   "source": [
    "original_string = \"Hello, Sidhikha!\"\n",
    "result = my_swapcase(original_string)\n",
    "print(result)"
   ]
  },
  {
   "cell_type": "markdown",
   "id": "fd3b1f9f",
   "metadata": {},
   "source": [
    "# 35. maketrans"
   ]
  },
  {
   "cell_type": "code",
   "execution_count": 137,
   "id": "f82e5935",
   "metadata": {},
   "outputs": [],
   "source": [
    "def my_maketrans(from_chars, to_chars):\n",
    "    \"\"\"\n",
    "    Create a translation table for str.translate().\n",
    "    Args:\n",
    "        from_chars (str): A string containing the characters to be replaced.\n",
    "        to_chars (str): A string containing the corresponding replacement characters.\n",
    "    Returns:\n",
    "        dict: A translation table that can be used with str.translate().\n",
    "    \"\"\"\n",
    "    if len(from_chars) != len(to_chars): # Check if the lengths of from_chars and to_chars are the same\n",
    "        raise ValueError(\"from_chars and to_chars must have the same length\")\n",
    "    translation_table = {ord(from_char): to_char for from_char, to_char in zip(from_chars, to_chars)} # Create a dictionary mapping each character in from_chars to its corresponding character in to_chars\n",
    "    return translation_table\n"
   ]
  },
  {
   "cell_type": "code",
   "execution_count": 136,
   "id": "87f6bc83",
   "metadata": {},
   "outputs": [
    {
     "name": "stdout",
     "output_type": "stream",
     "text": [
      "123def\n"
     ]
    }
   ],
   "source": [
    "from_chars = \"abc\"\n",
    "to_chars = \"123\"\n",
    "translation_table = my_maketrans(from_chars, to_chars)\n",
    "original_string = \"abcdef\" # Now you can use this translation table with str.translate()\n",
    "translated_string = original_string.translate(translation_table)\n",
    "print(translated_string)"
   ]
  },
  {
   "cell_type": "markdown",
   "id": "989ccf73",
   "metadata": {},
   "source": [
    "# 36. translate"
   ]
  },
  {
   "cell_type": "code",
   "execution_count": 140,
   "id": "ec6798a8",
   "metadata": {},
   "outputs": [],
   "source": [
    "def my_translate(input_string, translation_table):\n",
    "    \"\"\"\n",
    "    Translate characters in the input string based on the provided translation table.\n",
    "    Args:\n",
    "        input_string (str): The string to be translated.\n",
    "        translation_table (dict): A dictionary where keys are characters to be replaced, \n",
    "                                  and values are the corresponding replacement characters.\n",
    "    Returns:\n",
    "        str: The translated string.\n",
    "    Example:\n",
    "        >>> translation_table = {'H': 'h', 'e': 'E', 'l': 'L', 'o': 'O'}\n",
    "        >>> custom_translate(\"Hello\", translation_table)\n",
    "        'hELLO'\n",
    "    \"\"\"\n",
    "    translated_string = \"\"\n",
    "    for char in input_string: # Iterate through each character in the input string\n",
    "        # Use the translation_table to get the replacement, or keep the original character if not found\n",
    "        translated_char = translation_table.get(char, char)  \n",
    "        translated_string += translated_char # Append the translated character to the result string\n",
    "    return translated_string\n"
   ]
  },
  {
   "cell_type": "code",
   "execution_count": 141,
   "id": "945f9562",
   "metadata": {},
   "outputs": [
    {
     "name": "stdout",
     "output_type": "stream",
     "text": [
      "ashu\n"
     ]
    }
   ],
   "source": [
    "# Example usage:\n",
    "translation_table = {'A': 'a', 'S': 's', 'H': 'h', 'U': 'u'}\n",
    "result = my_translate(\"Ashu\", translation_table)\n",
    "print(result)"
   ]
  },
  {
   "cell_type": "markdown",
   "id": "b4af52ed",
   "metadata": {},
   "source": [
    "# 37. capitalize"
   ]
  },
  {
   "cell_type": "code",
   "execution_count": 142,
   "id": "ff9402bd",
   "metadata": {},
   "outputs": [],
   "source": [
    "def str_capitalize(input_string):\n",
    "    '''\n",
    "    capitalize() in Python is used to convert the first character of a string\n",
    "    to uppercase and the remaining characters to lowercase.\n",
    "    The capitalize() function takes no parameters.\n",
    "    capitalize() does not modify the actual input string but returns a new updated string.\n",
    "    '''\n",
    "\n",
    "    if len(input_string) > 0:  # Check if the string is not empty\n",
    "        print(input_string[0].upper() + input_string[1:]) #Capitalize the first character and concatenate the rest of the string\n",
    "    else:\n",
    "        print ('input_string') # it prints the given input"
   ]
  },
  {
   "cell_type": "code",
   "execution_count": 143,
   "id": "ce1224ae",
   "metadata": {},
   "outputs": [
    {
     "name": "stdout",
     "output_type": "stream",
     "text": [
      "Hello_world\n"
     ]
    }
   ],
   "source": [
    "str_capitalize('hello_world')"
   ]
  },
  {
   "cell_type": "markdown",
   "id": "ddcbbf20",
   "metadata": {},
   "source": [
    "# 38. casefold"
   ]
  },
  {
   "cell_type": "code",
   "execution_count": 144,
   "id": "033fc37d",
   "metadata": {},
   "outputs": [],
   "source": [
    "def str_casefold(input_string): # defining a string\n",
    "    '''\n",
    "    The casefold() method returns a string where all the characters are lower case.\n",
    "    This method is similar to the lower() method, but the casefold() method is stronger,\n",
    "    more aggressive, meaning that it will convert more characters into lower case, \n",
    "    and will find more matches when comparing two strings and both are converted using the casefold() method.\n",
    "    '''\n",
    "    str_casefolded_string = \"\" # Take an empty string\n",
    "    for char in input_string: # Check if the character is an uppercase letter or not\n",
    "        if 'A' <= char <= 'Z': # Convert to lowercase by using ASCII values\n",
    "            char = chr(ord(char) + ord('a') - ord('A')) # Append the character to the result string\n",
    "        str_casefolded_string += char\n",
    "    \n",
    "    print(str_casefolded_string) "
   ]
  },
  {
   "cell_type": "code",
   "execution_count": 145,
   "id": "eabec932",
   "metadata": {},
   "outputs": [
    {
     "name": "stdout",
     "output_type": "stream",
     "text": [
      "sidhikha!\n"
     ]
    },
    {
     "data": {
      "text/plain": [
       "'\\n    The casefold() method returns a string where all the characters are lower case.\\n    This method is similar to the lower() method, but the casefold() method is stronger,\\n    more aggressive, meaning that it will convert more characters into lower case, \\n    and will find more matches when comparing two strings and both are converted using the casefold() method.\\n    '"
      ]
     },
     "execution_count": 145,
     "metadata": {},
     "output_type": "execute_result"
    }
   ],
   "source": [
    "input_str = \"SIDHIKHA!\"\n",
    "str_casefold(input_str)\n",
    "str_casefold.__doc__"
   ]
  },
  {
   "cell_type": "markdown",
   "id": "203553b7",
   "metadata": {},
   "source": [
    "# 39. center"
   ]
  },
  {
   "cell_type": "code",
   "execution_count": 146,
   "id": "8bb56173",
   "metadata": {},
   "outputs": [],
   "source": [
    "def center_word(word, width):\n",
    "    '''\n",
    "    The center() method will center align the string, using a specified character (space is default) as the fill character.\n",
    "    Syntax : string.center(length, character)\n",
    "    Parameters : length --> The length of the returned string\n",
    "                 character --> The character to fill the missing space on each side. \n",
    "                 Default is \" \" (space)\n",
    "    '''\n",
    "    total_spaces = width - len(word)\n",
    "    left_spaces = total_spaces // 2\n",
    "\n",
    "    centered_word = \" \" * left_spaces + word # Create a string with left spaces followed by the word\n",
    "    \n",
    "\n",
    "    print(centered_word)"
   ]
  },
  {
   "cell_type": "code",
   "execution_count": 147,
   "id": "47c8739a",
   "metadata": {},
   "outputs": [
    {
     "name": "stdout",
     "output_type": "stream",
     "text": [
      "                                    Welcome\n"
     ]
    }
   ],
   "source": [
    "word_to_center = \"Welcome\"\n",
    "terminal_width = 80 \n",
    "centered_result = center_word(word_to_center, terminal_width)"
   ]
  },
  {
   "cell_type": "code",
   "execution_count": 148,
   "id": "e6d63c8a",
   "metadata": {},
   "outputs": [],
   "source": [
    "def center_word(word, width):\n",
    "    total_spaces = width - len(word)\n",
    "    left_spaces = total_spaces // 2\n",
    "    right_spaces = total_spaces - left_spaces\n",
    "\n",
    "    centered_word = \"*\" * left_spaces + word + \"*\" * right_spaces\n",
    "    print(centered_word)"
   ]
  },
  {
   "cell_type": "code",
   "execution_count": 149,
   "id": "9d243112",
   "metadata": {},
   "outputs": [
    {
     "name": "stdout",
     "output_type": "stream",
     "text": [
      "******welcome*******\n"
     ]
    }
   ],
   "source": [
    "center_word(\"welcome\", 20)"
   ]
  },
  {
   "cell_type": "markdown",
   "id": "f4a4d58b",
   "metadata": {},
   "source": [
    "# 40. istitle"
   ]
  },
  {
   "cell_type": "code",
   "execution_count": 150,
   "id": "f0fcc320",
   "metadata": {},
   "outputs": [],
   "source": [
    "def stristitle(string): # defining a function\n",
    "    '''\n",
    "    The istitle() method returns True if all words in a text start with a upper case letter,\n",
    "    and the rest of the word are lower case letters, otherwise False.\n",
    "    No parameters\n",
    "    '''\n",
    "    for char in string: # iterate through each character in the string\n",
    "        asciicode = ord(char) # gets the ascii code of the current character\n",
    "        x = ord(string[0]) # it gives the ascii code of the first character of the string\n",
    "    if x in range(65,91): # it checks if the asci code of the first character is in the range of uppercase letters (65-90)  \n",
    "        print('True') # if True, prints 'True'\n",
    "    else:\n",
    "        print('False') # if False, prints 'False'"
   ]
  },
  {
   "cell_type": "code",
   "execution_count": 151,
   "id": "30c47ac8",
   "metadata": {},
   "outputs": [
    {
     "name": "stdout",
     "output_type": "stream",
     "text": [
      "True\n"
     ]
    }
   ],
   "source": [
    "stristitle('There Is B Bus')"
   ]
  },
  {
   "cell_type": "markdown",
   "id": "bd7985c7",
   "metadata": {},
   "source": [
    "# 41. startswith"
   ]
  },
  {
   "cell_type": "code",
   "execution_count": 152,
   "id": "fee47d16",
   "metadata": {},
   "outputs": [],
   "source": [
    "def str_startswith(s, prefix):\n",
    "    '''\n",
    "    The startswith() method returns True if the string starts with the specified value, otherwise False.\n",
    "    Parameters : value--> The value to check if the string starts with.\n",
    "                 start--> An Integer specifying at which position to start the search.\n",
    "                 end--> An Integer specifying at which position to end the search. \n",
    "    '''\n",
    "    \n",
    "    if len(prefix) > len(s): # it checks if the length of the prefix is greater than the length of the string\n",
    "        return False\n",
    "\n",
    "    for i in range(len(prefix)): # Iterate over the characters in the prefix\n",
    "        if prefix[i] != s[i]: # Compare each character in the prefix with the corresponding character in the string\n",
    "            return False\n",
    "\n",
    "    return True"
   ]
  },
  {
   "cell_type": "code",
   "execution_count": 153,
   "id": "16be661a",
   "metadata": {},
   "outputs": [
    {
     "name": "stdout",
     "output_type": "stream",
     "text": [
      "True\n"
     ]
    }
   ],
   "source": [
    "string = \"The bus!\"\n",
    "prefix = \"The\"\n",
    "result = str_startswith(string, prefix)\n",
    "\n",
    "print(result)"
   ]
  },
  {
   "cell_type": "markdown",
   "id": "e4f9aa5e",
   "metadata": {},
   "source": [
    "# 42. endswith"
   ]
  },
  {
   "cell_type": "code",
   "execution_count": 154,
   "id": "a1c96b7a",
   "metadata": {},
   "outputs": [],
   "source": [
    "def str_endswith(s, suffix):\n",
    "    '''\n",
    "    The endswith() method returns True if the string ends with the specified value, otherwise False.\n",
    "    Syntax : string.endswith(value, start, end)\n",
    "    Parameters : value--> The value to check if the string ends with\n",
    "                 start--> An Integer specifying at which position to start the search\n",
    "                 end--> An Integer specifying at which position to end the search\n",
    "\n",
    "    '''\n",
    "    if len(suffix) > len(s): # Check if the length of the suffix is greater than the length of the string\n",
    "        return False\n",
    "\n",
    "    start_index = len(s) - len(suffix)  # Calculate the starting index in the string for comparison\n",
    "\n",
    "    for i in range(len(suffix)): # Iterate over the characters in the suffix\n",
    "        if suffix[i] != s[start_index + i]:# Compare each character in the suffix with the corresponding character in the string\n",
    "            return False\n",
    "\n",
    "    return True"
   ]
  },
  {
   "cell_type": "code",
   "execution_count": 155,
   "id": "6ad6668e",
   "metadata": {},
   "outputs": [
    {
     "name": "stdout",
     "output_type": "stream",
     "text": [
      "True\n"
     ]
    }
   ],
   "source": [
    "string = \"The bus!\"\n",
    "suffix = \"bus!\"\n",
    "result = str_endswith(string, suffix)\n",
    "\n",
    "print(result)"
   ]
  },
  {
   "cell_type": "markdown",
   "id": "ccc50d42",
   "metadata": {},
   "source": [
    "# 43. rFind"
   ]
  },
  {
   "cell_type": "code",
   "execution_count": 157,
   "id": "e40620a7",
   "metadata": {},
   "outputs": [
    {
     "data": {
      "text/plain": [
       "'\\n    The rfind() method finds the last occurrence of the specified value.\\n    The rfind() method returns -1 if the value is not found.\\n    The rfind() method is almost the same as the rindex() method.\\n    Syntax - string.rfind(value, start, end)\\n    Parameters: \\n               value--> The value to search for\\n               start--> Where to start the search. Default is 0\\n               end--> Where to end the search. Default is to the end of the string\\n    '"
      ]
     },
     "execution_count": 157,
     "metadata": {},
     "output_type": "execute_result"
    }
   ],
   "source": [
    "def str_rFind(s, a):\n",
    "    '''\n",
    "    The rfind() method finds the last occurrence of the specified value.\n",
    "    The rfind() method returns -1 if the value is not found.\n",
    "    The rfind() method is almost the same as the rindex() method.\n",
    "    Syntax - string.rfind(value, start, end)\n",
    "    Parameters: \n",
    "               value--> The value to search for\n",
    "               start--> Where to start the search. Default is 0\n",
    "               end--> Where to end the search. Default is to the end of the string\n",
    "    '''\n",
    "    x = s\n",
    "    y = a\n",
    "    \n",
    "    i = -1\n",
    "    \n",
    "    \n",
    "    for _, j in enumerate(x):\n",
    "        if y == j:\n",
    "            i=_\n",
    "            \n",
    "    if i != -1:\n",
    "            return i\n",
    "    else:\n",
    "        print(-1)  \n",
    "\n",
    "str_rFind.__doc__"
   ]
  },
  {
   "cell_type": "code",
   "execution_count": 158,
   "id": "a165d913",
   "metadata": {},
   "outputs": [
    {
     "data": {
      "text/plain": [
       "4"
      ]
     },
     "execution_count": 158,
     "metadata": {},
     "output_type": "execute_result"
    }
   ],
   "source": [
    "str_rFind('chinni','n') # it gives the index value"
   ]
  },
  {
   "cell_type": "markdown",
   "id": "43797841",
   "metadata": {},
   "source": [
    "# 44. find"
   ]
  },
  {
   "cell_type": "code",
   "execution_count": 159,
   "id": "d97c1e55",
   "metadata": {},
   "outputs": [
    {
     "data": {
      "text/plain": [
       "'\\n    Python find() function is used to return the lowest index value of the \\n    first occurrence of the substring from the input string; else it returns -1.\\n    The Python find() is an in-built string method that returns the index\\n    position of the character if found; else it returns value -1.\\n    '"
      ]
     },
     "execution_count": 159,
     "metadata": {},
     "output_type": "execute_result"
    }
   ],
   "source": [
    "def str_find(x, y):\n",
    "    '''\n",
    "    Python find() function is used to return the lowest index value of the \n",
    "    first occurrence of the substring from the input string; else it returns -1.\n",
    "    The Python find() is an in-built string method that returns the index\n",
    "    position of the character if found; else it returns value -1.\n",
    "    '''\n",
    "    \n",
    "    for i in range(len(x)):  # it iterate through each index in the range of the length of string 'x'\n",
    "        if x[i] == y:  # Check if the character at index 'i' in string 'x' is equal to 'y'\n",
    "            return i   # If found, return the index 'i'\n",
    "    else:\n",
    "        print(-1) # if the loop completes without finding 'y', print-1\n",
    "    \n",
    "str_find.__doc__"
   ]
  },
  {
   "cell_type": "code",
   "execution_count": 160,
   "id": "20d2f1c5",
   "metadata": {},
   "outputs": [
    {
     "data": {
      "text/plain": [
       "2"
      ]
     },
     "execution_count": 160,
     "metadata": {},
     "output_type": "execute_result"
    }
   ],
   "source": [
    "str_find('sweety','e')"
   ]
  },
  {
   "cell_type": "code",
   "execution_count": 161,
   "id": "30060da2",
   "metadata": {},
   "outputs": [
    {
     "name": "stdout",
     "output_type": "stream",
     "text": [
      "-1\n"
     ]
    }
   ],
   "source": [
    "str_find('sweety','z')"
   ]
  }
 ],
 "metadata": {
  "kernelspec": {
   "display_name": "Python 3 (ipykernel)",
   "language": "python",
   "name": "python3"
  },
  "language_info": {
   "codemirror_mode": {
    "name": "ipython",
    "version": 3
   },
   "file_extension": ".py",
   "mimetype": "text/x-python",
   "name": "python",
   "nbconvert_exporter": "python",
   "pygments_lexer": "ipython3",
   "version": "3.11.5"
  }
 },
 "nbformat": 4,
 "nbformat_minor": 5
}
